{
 "cells": [
  {
   "cell_type": "code",
   "execution_count": 13,
   "id": "09344050",
   "metadata": {},
   "outputs": [],
   "source": [
    "import logging\n",
    "\n",
    "from datetime import datetime\n",
    "from csv import reader\n",
    "from pathlib import Path"
   ]
  },
  {
   "cell_type": "code",
   "execution_count": null,
   "id": "063b6ff2",
   "metadata": {},
   "outputs": [],
   "source": [
    "class Template:\n",
    "  pass"
   ]
  },
  {
   "cell_type": "code",
   "execution_count": 2,
   "id": "0a44847a",
   "metadata": {},
   "outputs": [],
   "source": [
    "class Employee:\n",
    "  \"\"\" Creates an employee object with additional functions.\"\"\"\n",
    "  def __init__(self, name: str, rank: int, position: str, hours: dict, lunch_hours: dict):\n",
    "    self.name = name\n",
    "    self.first_name = name.split()[0]\n",
    "    self.initials = \"\".join(i[0] for i in name.split())\n",
    "\n",
    "    self.rank = rank\n",
    "    self.position = position\n",
    "\n",
    "    self.hours = self._to_datetime(hours)\n",
    "    self.phours = self._to_ptime(hours)\n",
    "    self.lunch_hours = self._to_datetime(lunch_hours)\n",
    "    self.plunch_hours = self._to_ptime(lunch_hours)\n",
    "\n",
    "    self.programs = None\n",
    "\n",
    "  def _to_datetime(self, hours):\n",
    "    result = {}\n",
    "    for day, times in hours.items():\n",
    "      result[day] = [datetime.strptime(t.zfill(4), \"%H%M\").time() for t in times]\n",
    "    return result\n",
    "  \n",
    "  def _to_ptime(self, hours):\n",
    "    result = {}\n",
    "    for day, times in hours.items():\n",
    "      dt = [datetime.strptime(t.zfill(4), \"%H%M\") for t in times]\n",
    "      hours = [str(t.hour % 12) or \"12\" for t in dt]\n",
    "      mins = [\"\" if t.minute == 0 else str(t.minute) for t in dt]\n",
    "      ft = [\":\".join([str(h), f\"{m}\"]).rstrip(\":\") for h, m in zip(hours, mins)]\n",
    "      result[day] = ft\n",
    "    return result"
   ]
  },
  {
   "cell_type": "code",
   "execution_count": 40,
   "id": "df294bca",
   "metadata": {},
   "outputs": [],
   "source": [
    "class Loader:\n",
    "  \"\"\" Loads and converts employees to `Employee` objects and templates as `Template` objects\"\"\"\n",
    "  def __init__(self):\n",
    "    self.employees = []\n",
    "    self.templates = []\n",
    "\n",
    "    self.key = None\n",
    "  \n",
    "  def load_employees(self, employees_path: str, employees_key: str = \"\"):\n",
    "    try:\n",
    "      key_map = {}\n",
    "      with open(employees_key, \"r\", encoding=\"utf-8\") as keyfile:\n",
    "        for line in keyfile:\n",
    "          encoded, decoded = line.split(\"= \")\n",
    "          key_map[encoded.strip()] = decoded.strip()\n",
    "          self.key = key_map\n",
    "    except FileNotFoundError as e:\n",
    "      logging.exception(f\"Path: '{employees_key}' does not exist. {e}\")\n",
    "\n",
    "    try:\n",
    "      fields = []\n",
    "      rows = []\n",
    "      with open(employees_path, \"r\", encoding=\"utf-8\") as csvfile:\n",
    "        csvreader = reader(csvfile)\n",
    "        fields = next(csvreader)\n",
    "        for row in csvreader:\n",
    "          rows.append(row)\n",
    "      for row in rows:\n",
    "        name = self.key.get(row[0], row[0]) if self.key else row[0]\n",
    "        print(name)\n",
    "    except FileNotFoundError as e:\n",
    "      logging.exception(f\"Path: '{employees_path}' does not exist. {e}\")"
   ]
  },
  {
   "cell_type": "code",
   "execution_count": 41,
   "id": "7b87322c",
   "metadata": {},
   "outputs": [
    {
     "name": "stdout",
     "output_type": "stream",
     "text": [
      "Michelle DuPre\n",
      "Rod Franco\n",
      "Lea Stapleton\n",
      "Anthony Young\n",
      "Yami Ellis\n",
      "Sonaite Debebe-Kumssa\n",
      "Lindsey Taunton\n",
      "Jessica Bryant\n",
      "Chris Wright\n",
      "Cat Alva\n",
      "Shawn Sebro\n",
      "Wil Meade\n",
      "Janet Henson\n",
      "Emaleigh Kitchen\n",
      "Wendy Jones\n",
      "Deborah Lancaster\n",
      "Cheryl Campbell\n",
      "Sydnee Matthews\n",
      "Judy Cato\n",
      "Jerry Conley\n",
      "Shallie Church\n",
      "Louie Jamison\n",
      "Marion Mack\n"
     ]
    }
   ],
   "source": [
    "loader = Loader()\n",
    "loader.load_employees(\"../models/employees.csv\", \"../models/employees_key.txt\")"
   ]
  },
  {
   "cell_type": "code",
   "execution_count": null,
   "id": "23d5250b",
   "metadata": {},
   "outputs": [
    {
     "name": "stdout",
     "output_type": "stream",
     "text": [
      "Chris\n",
      "CW\n",
      "{'monday': [datetime.time(14, 0), datetime.time(20, 0)], 'tuesday': [datetime.time(9, 0), datetime.time(17, 30)]}\n",
      "{'monday': ['2', '8'], 'tuesday': ['9', '5:30']}\n",
      "{'monday': [datetime.time(17, 30), datetime.time(18, 0)], 'tuesday': [datetime.time(13, 0), datetime.time(14, 0)]}\n",
      "{'monday': ['5:30', '6'], 'tuesday': ['1', '2']}\n"
     ]
    }
   ],
   "source": [
    "chris = Employee(\"Chris Wright\", 4, \"full time\", {\"monday\": [\"1400\", \"2000\"], \"tuesday\": [\"900\", \"1730\"]}, {\"monday\": [\"1730\", \"1800\"], \"tuesday\": [\"1300\", \"1400\"]})\n",
    "\n",
    "# print(chris.first_name)\n",
    "# print(chris.initials)\n",
    "# print(chris.hours)\n",
    "# print(chris.phours)\n",
    "# print(chris.lunch_hours)\n",
    "# print(chris.plunch_hours)"
   ]
  }
 ],
 "metadata": {
  "kernelspec": {
   "display_name": ".venv",
   "language": "python",
   "name": "python3"
  },
  "language_info": {
   "codemirror_mode": {
    "name": "ipython",
    "version": 3
   },
   "file_extension": ".py",
   "mimetype": "text/x-python",
   "name": "python",
   "nbconvert_exporter": "python",
   "pygments_lexer": "ipython3",
   "version": "3.13.2"
  }
 },
 "nbformat": 4,
 "nbformat_minor": 5
}
