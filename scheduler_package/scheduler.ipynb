{
 "cells": [
  {
   "cell_type": "code",
   "execution_count": 62,
   "id": "09344050",
   "metadata": {},
   "outputs": [],
   "source": [
    "from datetime import datetime"
   ]
  },
  {
   "cell_type": "code",
   "execution_count": 63,
   "id": "0a44847a",
   "metadata": {},
   "outputs": [],
   "source": [
    "class Employee:\n",
    "  \"\"\" Creates an employee object with additional functions.\"\"\"\n",
    "  def __init__(self, name: str, rank: int, position: str, hours: dict, lunch_hours: dict):\n",
    "    self.name = name\n",
    "    self.first_name = name.split()[0]\n",
    "    self.initials = \"\".join(i[0] for i in name.split())\n",
    "\n",
    "    self.rank = rank\n",
    "    self.position = position\n",
    "\n",
    "    self.hours = self._to_datetime(hours)\n",
    "    self.phours = self._to_ptime(hours)\n",
    "    self.lunch_hours = self._to_datetime(lunch_hours)\n",
    "    self.plunch_hours = self._to_ptime(lunch_hours)\n",
    "\n",
    "  def _to_datetime(self, hours):\n",
    "    result = {}\n",
    "    for day, times in hours.items():\n",
    "      result[day] = [datetime.strptime(t.zfill(4), \"%H%M\").time() for t in times]\n",
    "    return result\n",
    "  \n",
    "  def _to_ptime(self, hours):\n",
    "    result = {}\n",
    "    for day, times in hours.items():\n",
    "      dt = [datetime.strptime(t.zfill(4), \"%H%M\") for t in times]\n",
    "      hours = [str(t.hour % 12) or \"12\" for t in dt]\n",
    "      mins = [\"\" if t.minute == 0 else str(t.minute) for t in dt]\n",
    "      ft = [\":\".join([str(h), f\"{m}\"]).rstrip(\":\") for h, m in zip(hours, mins)]\n",
    "      result[day] = ft\n",
    "    return result"
   ]
  },
  {
   "cell_type": "code",
   "execution_count": 64,
   "id": "23d5250b",
   "metadata": {},
   "outputs": [
    {
     "name": "stdout",
     "output_type": "stream",
     "text": [
      "Chris\n",
      "CW\n",
      "{'monday': [datetime.time(14, 0), datetime.time(20, 0)], 'tuesday': [datetime.time(9, 0), datetime.time(17, 30)]}\n",
      "{'monday': ['2', '8'], 'tuesday': ['9', '5:30']}\n",
      "{'monday': [datetime.time(17, 30), datetime.time(18, 0)], 'tuesday': [datetime.time(13, 0), datetime.time(14, 0)]}\n",
      "{'monday': ['5:30', '6'], 'tuesday': ['1', '2']}\n"
     ]
    }
   ],
   "source": [
    "chris = Employee(\"Chris Wright\", 4, \"full time\", {\"monday\": [\"1400\", \"2000\"], \"tuesday\": [\"900\", \"1730\"]}, {\"monday\": [\"1730\", \"1800\"], \"tuesday\": [\"1300\", \"1400\"]})\n",
    "\n",
    "print(chris.first_name)\n",
    "print(chris.initials)\n",
    "print(chris.hours)\n",
    "print(chris.phours)\n",
    "print(chris.lunch_hours)\n",
    "print(chris.plunch_hours)"
   ]
  }
 ],
 "metadata": {
  "kernelspec": {
   "display_name": ".venv",
   "language": "python",
   "name": "python3"
  },
  "language_info": {
   "codemirror_mode": {
    "name": "ipython",
    "version": 3
   },
   "file_extension": ".py",
   "mimetype": "text/x-python",
   "name": "python",
   "nbconvert_exporter": "python",
   "pygments_lexer": "ipython3",
   "version": "3.13.1"
  }
 },
 "nbformat": 4,
 "nbformat_minor": 5
}
